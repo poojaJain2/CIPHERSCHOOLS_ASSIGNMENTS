{
 "cells": [
  {
   "cell_type": "code",
   "execution_count": 1,
   "metadata": {},
   "outputs": [
    {
     "name": "stdout",
     "output_type": "stream",
     "text": [
      "enter no. of elements you want to enter:3\n",
      "2\n",
      "3\n",
      "4\n",
      "[2, 3, 4]\n",
      "your list after removing repeated elements is shown here:  [2, 3, 4]\n"
     ]
    }
   ],
   "source": [
    "#QUES.1\n",
    "l = list()\n",
    "n = int(input(\"enter no. of elements you want to enter:\"))\n",
    "for i in range(0, n): \n",
    "    ele = int(input()) \n",
    "  \n",
    "    l.append(ele)  \n",
    "      \n",
    "print(l) \n",
    "s = set(l)\n",
    "#s = {a1,a2,a3,a4,a5}\n",
    "\n",
    "g = list(s)\n",
    "\n",
    "print(\"your list after removing repeated elements is shown here: \",g)"
   ]
  },
  {
   "cell_type": "code",
   "execution_count": 2,
   "metadata": {},
   "outputs": [
    {
     "name": "stdout",
     "output_type": "stream",
     "text": [
      "enter no. of elements you want to enter in your list:4\n",
      "3\n",
      "4\n",
      "3\n",
      "3\n",
      "[3, 4, 3, 3]\n",
      "(3, 4, 3, 3)\n",
      "the length of the tuple is:  4\n",
      "the sum of tuple is: 13\n",
      "the minimum in tuple is: 3\n",
      "the maximum in tuple is: 4\n"
     ]
    }
   ],
   "source": [
    "# QUES.2>\n",
    "l = list()\n",
    "n= int(input(\"enter no. of elements you want to enter in your list:\"))\n",
    "for i in range(0,n):\n",
    "    ele = int(input())\n",
    "    l.append(ele)\n",
    "print(l)\n",
    "t = tuple(l)\n",
    "print(t)\n",
    "# a.)\n",
    "print(\"the length of the tuple is: \",len(t))\n",
    "\n",
    "#b.)\n",
    "s = sum(t)\n",
    "print(\"the sum of tuple is:\",s)\n",
    "\n",
    "#c.)\n",
    "m=min(t)\n",
    "print(\"the minimum in tuple is:\",m)\n",
    "maximum = max(t)\n",
    "print(\"the maximum in tuple is:\",maximum)"
   ]
  },
  {
   "cell_type": "code",
   "execution_count": 3,
   "metadata": {},
   "outputs": [
    {
     "name": "stdout",
     "output_type": "stream",
     "text": [
      "enter the number :13\n",
      "enter the ith bit:1\n",
      "the number after ith bit changes: 15\n"
     ]
    }
   ],
   "source": [
    "#QUES 3).\n",
    "n = int(input(\"enter the number :\"))\n",
    "i = int(input(\"enter the ith bit:\"))\n",
    "\n",
    "xor = ((1<<i)|n)\n",
    "\n",
    "print(\"the number after ith bit changes:\",xor)"
   ]
  },
  {
   "cell_type": "code",
   "execution_count": 4,
   "metadata": {},
   "outputs": [
    {
     "name": "stdout",
     "output_type": "stream",
     "text": [
      "enter a number:3\n",
      "1\n"
     ]
    }
   ],
   "source": [
    "#QUES.4)\n",
    "n = int(input(\"enter a number:\"))\n",
    "print(1) if(n%2 !=0) else 0"
   ]
  },
  {
   "cell_type": "code",
   "execution_count": 6,
   "metadata": {},
   "outputs": [
    {
     "name": "stdout",
     "output_type": "stream",
     "text": [
      "Enter number of elements:3\n",
      "Enter element:2\n",
      "Enter element:3\n",
      "Enter element:5\n",
      "Enter number of elements:4\n",
      "Enter element:4\n",
      "Enter element:4\n",
      "Enter element:3\n",
      "Enter element:5\n",
      "Sorted list is: [2, 3, 3, 4, 4, 5, 5]\n"
     ]
    }
   ],
   "source": [
    "#QUES 5.)\n",
    "list1=[]\n",
    "list2=[]\n",
    "n1=int(input(\"Enter number of elements:\"))\n",
    "for i in range(1,n1+1):\n",
    "    b=int(input(\"Enter element:\"))\n",
    "    list1.append(b)\n",
    "n2=int(input(\"Enter number of elements:\"))\n",
    "for i in range(1,n2+1):\n",
    "    d=int(input(\"Enter element:\"))\n",
    "    list2.append(d)\n",
    "merge=list1+list2\n",
    "merge.sort()\n",
    "print(\"Sorted list is:\",merge)\n"
   ]
  },
  {
   "cell_type": "code",
   "execution_count": 8,
   "metadata": {},
   "outputs": [
    {
     "name": "stdout",
     "output_type": "stream",
     "text": [
      "enter total no. of names you want to enter:4\n",
      "pooja\n",
      "arun\n",
      "sidu\n",
      "suresh\n",
      "enter total no. of marks u want to entr of total no. of students:4\n",
      "40\n",
      "100\n",
      "50\n",
      "30\n",
      "{'pooja': 40, 'arun': 100, 'sidu': 50, 'suresh': 30}\n",
      "{'suresh': 30, 'pooja': 40, 'sidu': 50, 'arun': 100}\n"
     ]
    }
   ],
   "source": [
    "#QUES 6.)\n",
    "name = list()\n",
    "n = int(input(\"enter total no. of names you want to enter:\"))\n",
    "marks = list()\n",
    "for i in range(0,n):\n",
    "    ele = (input())\n",
    "    name.append(ele)\n",
    "m = int(input(\"enter total no. of marks u want to entr of total no. of students:\"))\n",
    "for j in range(0,m):\n",
    "    ele = int(input())\n",
    "    marks.append(ele)\n",
    "d = dict(zip(name,marks))\n",
    "print(d)\n",
    "print(dict(sorted(d.items(),key=lambda x:x[1])))"
   ]
  },
  {
   "cell_type": "code",
   "execution_count": null,
   "metadata": {},
   "outputs": [],
   "source": []
  }
 ],
 "metadata": {
  "kernelspec": {
   "display_name": "Python 3",
   "language": "python",
   "name": "python3"
  },
  "language_info": {
   "codemirror_mode": {
    "name": "ipython",
    "version": 3
   },
   "file_extension": ".py",
   "mimetype": "text/x-python",
   "name": "python",
   "nbconvert_exporter": "python",
   "pygments_lexer": "ipython3",
   "version": "3.7.6"
  }
 },
 "nbformat": 4,
 "nbformat_minor": 4
}
